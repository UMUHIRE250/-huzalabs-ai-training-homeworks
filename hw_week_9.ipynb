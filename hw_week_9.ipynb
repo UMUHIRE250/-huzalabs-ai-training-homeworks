{
  "nbformat": 4,
  "nbformat_minor": 0,
  "metadata": {
    "colab": {
      "provenance": []
    },
    "kernelspec": {
      "name": "python3",
      "display_name": "Python 3"
    },
    "language_info": {
      "name": "python"
    }
  },
  "cells": [
    {
      "cell_type": "markdown",
      "source": [
        "  # Extra-Practice for Week 9"
      ],
      "metadata": {
        "id": "ur-mvqpWlGqz"
      }
    },
    {
      "cell_type": "markdown",
      "source": [
        "Question: 2"
      ],
      "metadata": {
        "id": "1De0ORPRlW5n"
      }
    },
    {
      "cell_type": "code",
      "execution_count": null,
      "metadata": {
        "colab": {
          "base_uri": "https://localhost:8080/"
        },
        "id": "JBCrSYDPk3s9",
        "outputId": "7ada757f-1bf5-4e2a-f418-6cd22afde5da"
      },
      "outputs": [
        {
          "output_type": "stream",
          "name": "stdout",
          "text": [
            "All test cases passed!\n"
          ]
        }
      ],
      "source": [
        "import os\n",
        "\n",
        "def countFiles(path):\n",
        "    if not os.path.isdir(path):\n",
        "        return 0\n",
        "\n",
        "    file_count = 0\n",
        "    for entry in os.listdir(path):\n",
        "        entry_path = os.path.join(path, entry)\n",
        "        if os.path.isfile(entry_path):\n",
        "            file_count += 1\n",
        "        elif os.path.isdir(entry_path):\n",
        "            file_count += countFiles(entry_path)\n",
        "\n",
        "    return file_count\n",
        "\n",
        "    assert countFiles(\"sampleFiles/folderB/folderF/folderG\") == 0\n",
        "    assert countFiles(\"sampleFiles/folderB/folderF\") == 0\n",
        "    assert countFiles(\"sampleFiles/folderB\") == 2\n",
        "    assert countFiles(\"sampleFiles/folderA/folderC\") == 4\n",
        "    assert countFiles(\"sampleFiles/folderA\") == 6\n",
        "    assert countFiles(\"sampleFiles\") == 10\n",
        "print(\"All test cases passed!\")\n"
      ]
    },
    {
      "cell_type": "markdown",
      "source": [
        "Question: 7"
      ],
      "metadata": {
        "id": "6U14sj-pqzms"
      }
    },
    {
      "cell_type": "code",
      "source": [
        "import sympy\n",
        "\n",
        "def isPrime(n):\n",
        "    return sympy.isprime(n)\n",
        "\n",
        "def findRTP(digits):\n",
        "    def backtrack(prefix):\n",
        "        if len(prefix) == digits:\n",
        "            if isPrime(int(prefix)):\n",
        "                return int(prefix)\n",
        "            else:\n",
        "                return None\n",
        "        else:\n",
        "            for digit in \"123456789\":\n",
        "                candidate = prefix + digit\n",
        "                if isPrime(int(candidate)):\n",
        "                    result = backtrack(candidate)\n",
        "                    if result is not None:\n",
        "                        return result\n",
        "            return None\n",
        "\n",
        "    return backtrack(\"\")\n",
        "\n",
        "# Test cases\n",
        "print(findRTP(1))\n",
        "print(findRTP(3))\n",
        "print(findRTP(5))\n",
        "print(findRTP(7))\n"
      ],
      "metadata": {
        "colab": {
          "base_uri": "https://localhost:8080/"
        },
        "id": "-nFwpfzVq2GO",
        "outputId": "b0f1e136-527d-4ea5-b6f7-25470a95170f"
      },
      "execution_count": null,
      "outputs": [
        {
          "output_type": "stream",
          "name": "stdout",
          "text": [
            "2\n",
            "233\n",
            "23333\n",
            "2339933\n"
          ]
        }
      ]
    },
    {
      "cell_type": "markdown",
      "source": [
        "Question: 8"
      ],
      "metadata": {
        "id": "Ueupy3bFr4tG"
      }
    },
    {
      "cell_type": "code",
      "source": [],
      "metadata": {
        "id": "x_KpQGakssu1"
      },
      "execution_count": null,
      "outputs": []
    },
    {
      "cell_type": "markdown",
      "source": [
        "  # hw-week-9"
      ],
      "metadata": {
        "id": "pRW09Cixsu7i"
      }
    },
    {
      "cell_type": "markdown",
      "source": [
        "Part-A- Question: 1"
      ],
      "metadata": {
        "id": "2IOCmz_QtEfd"
      }
    },
    {
      "cell_type": "code",
      "source": [
        "def oddCount(L):\n",
        "    if not L: #  O(1)\n",
        "        return 0\n",
        "    else:\n",
        "        # Check if the first element is odd\n",
        "        if L[0] % 2 != 0:\n",
        "            # If it's odd, return 1 plus the count of odds in the rest of the list\n",
        "            return 1 + oddCount(L[1:]) # O(n)\n",
        "        else:\n",
        "            # If it's even, return only the count of odds in the rest of the list\n",
        "            return oddCount(L[1:]) # O(n)\n",
        "\n",
        "# Test cases\n",
        "print(oddCount([1, 2, 3, 4, 5]))\n",
        "print(oddCount([2, 4, 6, 8]))\n",
        "print(oddCount([1, 3, 5, 7]))\n",
        "print(oddCount([2, 4, 6, 8, 9]))\n",
        "print(oddCount([]))\n"
      ],
      "metadata": {
        "colab": {
          "base_uri": "https://localhost:8080/"
        },
        "id": "1CuzkcGotXUB",
        "outputId": "63c8ab28-ca43-4695-8710-383d5a3852f0"
      },
      "execution_count": null,
      "outputs": [
        {
          "output_type": "stream",
          "name": "stdout",
          "text": [
            "3\n",
            "0\n",
            "4\n",
            "1\n",
            "0\n"
          ]
        }
      ]
    },
    {
      "cell_type": "markdown",
      "source": [
        "\n",
        "\n",
        "1.   Best case time complexity: O(1)\n",
        "2.   Average case time complexity: O(n)\n",
        "3.   Worst case time complexity: O(n)\n",
        "4.   Space complexity: O(n)  "
      ],
      "metadata": {
        "id": "SldQHXYzxO8F"
      }
    },
    {
      "cell_type": "markdown",
      "source": [
        "Part-A- Question: 2"
      ],
      "metadata": {
        "id": "8QK7w8OOuI_T"
      }
    },
    {
      "cell_type": "code",
      "source": [
        "def oddSum(L):\n",
        "    if not L: # O(1)\n",
        "        return 0\n",
        "    else:\n",
        "        # Check if the first element is odd\n",
        "        if L[0] % 2 != 0:\n",
        "            # If it's odd, add it to the sum of odds in the rest of the list\n",
        "            return L[0] + oddSum(L[1:]) # O(n)\n",
        "        else:\n",
        "            # If it's even, return only the sum of odds in the rest of the list\n",
        "            return oddSum(L[1:])# O(n)\n",
        "\n",
        "# Test cases\n",
        "print(oddSum([1, 2, 3, 4, 5]))\n",
        "print(oddSum([2, 4, 6, 8]))\n",
        "print(oddSum([1, 3, 5, 7]))\n",
        "print(oddSum([2, 4, 6, 8, 9]))\n",
        "print(oddSum([]))\n",
        "\n",
        "# Best case time complexity: O(1)\n",
        "# Average case time complexity: O(n)\n",
        "# Worst case time complexity: O(n)\n",
        "# Space complexity: O(n)\n"
      ],
      "metadata": {
        "colab": {
          "base_uri": "https://localhost:8080/"
        },
        "id": "6qQhpY2HuO3h",
        "outputId": "ac7b5c27-77a3-4a3d-94bb-5fc21b4a5559"
      },
      "execution_count": null,
      "outputs": [
        {
          "output_type": "stream",
          "name": "stdout",
          "text": [
            "9\n",
            "0\n",
            "16\n",
            "9\n",
            "0\n"
          ]
        }
      ]
    },
    {
      "cell_type": "markdown",
      "source": [
        "Part-A- Question: 3"
      ],
      "metadata": {
        "id": "XBJWHxNQs8lQ"
      }
    },
    {
      "cell_type": "code",
      "source": [
        "def oddsOnly(L):\n",
        "    if not L: # O(1)\n",
        "        return []\n",
        "    else:\n",
        "        # Check if the first element is odd\n",
        "        if L[0] % 2 != 0: # O(n)\n",
        "            # If it's odd, include it in the result and recursively call on the rest of the list\n",
        "            return [L[0]] + oddsOnly(L[1:])\n",
        "        else:\n",
        "            # If it's even, just recursively call on the rest of the list\n",
        "            return oddsOnly(L[1:]) # O(n)\n",
        "\n",
        "# Test cases\n",
        "print(oddsOnly([1, 2, 3, 4, 5]))\n",
        "print(oddsOnly([2, 4, 6, 8]))\n",
        "print(oddsOnly([1, 3, 5, 7]))\n",
        "print(oddsOnly([2, 4, 6, 8, 9]))\n",
        "print(oddsOnly([]))\n",
        "\n",
        "# Best case time complexity: O(1)\n",
        "# Average case time complexity: O(n)\n",
        "# Worst case time complexity: O(n)\n",
        "# Space complexity: O(n)\n",
        "\n"
      ],
      "metadata": {
        "colab": {
          "base_uri": "https://localhost:8080/"
        },
        "id": "q5OdrVz9vtbY",
        "outputId": "93b4fb7e-b540-4a84-f929-30175fb686c2"
      },
      "execution_count": null,
      "outputs": [
        {
          "output_type": "stream",
          "name": "stdout",
          "text": [
            "[1, 3, 5]\n",
            "[]\n",
            "[1, 3, 5, 7]\n",
            "[9]\n",
            "[]\n"
          ]
        }
      ]
    },
    {
      "cell_type": "markdown",
      "source": [
        "Part-A- Question: 4"
      ],
      "metadata": {
        "id": "ZjrjGHE4waNZ"
      }
    },
    {
      "cell_type": "code",
      "source": [
        "def maxOdd(L):\n",
        "    if not L: # O(1)\n",
        "        return None\n",
        "    else:\n",
        "        # Check if the first element is odd\n",
        "        if L[0] % 2 != 0: # O(n)\n",
        "            # If it's odd, recursively find the maximum odd integer in the rest of the list\n",
        "            rest_max = maxOdd(L[1:])\n",
        "            # Compare the current element with the maximum odd integer found in the rest of the list\n",
        "            if rest_max is None or L[0] > rest_max: O(n)\n",
        "                return L[0]\n",
        "            else:\n",
        "                return rest_max\n",
        "        else:\n",
        "            # If the first element is even, recursively find the maximum odd integer in the rest of the list\n",
        "            return maxOdd(L[1:])\n",
        "\n",
        "# Test cases\n",
        "print(maxOdd([1, 2, 3, 4, 5]))\n",
        "print(maxOdd([2, 4, 6, 8]))\n",
        "print(maxOdd([1, 3, 5, 7]))\n",
        "print(maxOdd([2, 4, 6, 8, 9]))\n",
        "print(maxOdd([]))\n",
        "\n",
        "# Best case time complexity: O(1)\n",
        "# Average case time complexity: O(n)\n",
        "# Worst case time complexity: O(n)\n",
        "# Space complexity: O(n)\n"
      ],
      "metadata": {
        "colab": {
          "base_uri": "https://localhost:8080/"
        },
        "id": "lQlfYlHYwcLD",
        "outputId": "10ae1698-fcf7-406c-f040-e7b11ab137b8"
      },
      "execution_count": null,
      "outputs": [
        {
          "output_type": "stream",
          "name": "stdout",
          "text": [
            "5\n",
            "None\n",
            "7\n",
            "9\n",
            "None\n"
          ]
        }
      ]
    },
    {
      "cell_type": "markdown",
      "source": [
        "Part-B- Question: 6"
      ],
      "metadata": {
        "id": "ENh1j310xr_b"
      }
    },
    {
      "cell_type": "code",
      "source": [
        "def hasConsecutiveDigits(n):\n",
        "    # Convert n to a string to easily check consecutive digits\n",
        "    n_str = str(n)\n",
        "\n",
        "    # Base case: if the length of the number is less than 2, return False\n",
        "     if len(n_str) < 2:  #  O(1)\n",
        "        return False\n",
        "    else:\n",
        "        # Check if the first two digits are the same\n",
        "        if n_str[0] == n_str[1]: #  O(n)\n",
        "            return True\n",
        "        else:\n",
        "            # Recursively check the remaining digits\n",
        "            return hasConsecutiveDigits(int(n_str[1:]))   #  O(n)\n",
        "\n",
        "# Test cases\n",
        "def testHasConsecutiveDigits():\n",
        "    print(\"Beginning hasConsecutiveDigits test cases...\")\n",
        "    assert(hasConsecutiveDigits(1123) == True)\n",
        "    assert(hasConsecutiveDigits(-1123) == True)\n",
        "    assert(hasConsecutiveDigits(1234) == False)\n",
        "    assert(hasConsecutiveDigits(0) == False)\n",
        "    assert(hasConsecutiveDigits(1233) == True)\n",
        "    print(\"Passed!\")\n",
        "\n",
        "testHasConsecutiveDigits()\n",
        "\n",
        "# Best case time complexity: O(1)\n",
        "# Average case time complexity: O(n)\n",
        "# Worst case time complexity: O(n)\n",
        "# Space complexity: O(log n)\n"
      ],
      "metadata": {
        "colab": {
          "base_uri": "https://localhost:8080/"
        },
        "id": "oC_M25u7xy6f",
        "outputId": "449666e6-1f94-4719-bf51-d22a0be0b034"
      },
      "execution_count": null,
      "outputs": [
        {
          "output_type": "stream",
          "name": "stdout",
          "text": [
            "Beginning hasConsecutiveDigits test cases...\n",
            "Passed!\n"
          ]
        }
      ]
    },
    {
      "cell_type": "markdown",
      "source": [
        "Part-B- Question: 7"
      ],
      "metadata": {
        "id": "s-13zlUE5abH"
      }
    },
    {
      "cell_type": "code",
      "source": [
        "def alternatingSum(L):\n",
        "    # Base case: if L is empty, return 0\n",
        "    if not L:\n",
        "        return 0\n",
        "    else:\n",
        "        # Subtract the first element of L from the alternating sum and recursively\n",
        "        # call alternatingSum on the rest of the list with the signs reversed\n",
        "        return L[0] - alternatingSum(L[1:])\n",
        "\n",
        "# Test cases\n",
        "print(alternatingSum([1, 2, 3, 4, 5]))\n",
        "\n",
        "# Best case time complexity: O(1)\n",
        "# Average case time complexity: O(n)\n",
        "# Worst case time complexity: O(n)\n",
        "# Space complexity: O(log n)\n",
        "\n"
      ],
      "metadata": {
        "colab": {
          "base_uri": "https://localhost:8080/"
        },
        "id": "ZFLqfVcj5iBB",
        "outputId": "6fc925ae-0dbd-4206-c149-2ad091f467c9"
      },
      "execution_count": null,
      "outputs": [
        {
          "output_type": "stream",
          "name": "stdout",
          "text": [
            "3\n"
          ]
        }
      ]
    },
    {
      "cell_type": "markdown",
      "source": [
        "Quiz 8 - Version A - Free Response: CreditCounter Class"
      ],
      "metadata": {
        "id": "nRzCkBwy6sQQ"
      }
    },
    {
      "cell_type": "code",
      "source": [
        "class CreditCounter:\n",
        "    def __init__(self, initial_counts):\n",
        "        self.counts = initial_counts\n",
        "\n",
        "    def getCredits(self, name):\n",
        "        return self.counts.get(name)\n",
        "\n",
        "    def getMostCredits(self):\n",
        "        max_credits = max(self.counts.values())\n",
        "        return {name for name, credits in self.counts.items() if credits == max_credits}\n",
        "\n",
        "    def addScore(self, name, score):\n",
        "        if name in self.counts:\n",
        "            self.counts[name] += score\n",
        "        else:\n",
        "            self.counts[name] = score\n",
        "\n",
        "    def getAll(self):\n",
        "        return self.counts.copy()\n",
        "\n",
        "    def getCopy(self):\n",
        "        return CreditCounter(self.getAll())\n",
        "\n",
        "# Test cases\n",
        "def testCreditCounterClass():\n",
        "    print('Testing CreditCounter class...', end='')\n",
        "    # Create a CreditCounter with these initial counts\n",
        "    sb1 = CreditCounter({'Alice': 80, 'Bob': 42})\n",
        "    assert(sb1.getCredits('Alice') == 80)\n",
        "    assert(sb1.getCredits('Bob') == 42)\n",
        "    assert(sb1.getCredits('Chee') == None)\n",
        "    assert(sb1.getMostCredits() == {'Alice'})  # Set of names w/ the most credits\n",
        "    sb1.addScore('Bob', 40)  # Bob just earned 40 more credits!\n",
        "    assert(sb1.getCredits('Bob') == 82)  # Now he has 82 credits\n",
        "    assert(sb1.getMostCredits() == {'Bob'})  # Bob has 82, Alice has 80\n",
        "    sb1.addScore('Chee', 64)  # Chee wasn't there before, but now has 64 credits\n",
        "    assert(sb1.getCredits('Chee') == 64)\n",
        "    sb1.addScore('Chee', 18)\n",
        "    assert(sb1.getCredits('Chee') == 82)\n",
        "    assert(sb1.getMostCredits() == {'Bob', 'Chee'})  # Bob and Chee have 82\n",
        "    assert(sb1.getAll() == {'Alice': 80, 'Bob': 82, 'Chee': 82})\n",
        "    sb2 = sb1.getCopy()  # This is a copy of sb1, where changes to the copy\n",
        "    # do not affect the original, and vice versa\n",
        "    assert(sb2.getAll() == {'Alice': 80, 'Bob': 82, 'Chee': 82})\n",
        "    sb2.addScore('Alice', 10)  # Alice now has 90 in sb2, but still has 80 in sb1\n",
        "    assert(sb2.getMostCredits() == {'Alice'})\n",
        "    assert(sb1.getMostCredits() == {'Bob', 'Chee'})\n",
        "    print('Passed!')\n",
        "\n",
        "testCreditCounterClass()\n"
      ],
      "metadata": {
        "colab": {
          "base_uri": "https://localhost:8080/"
        },
        "id": "KRhjIwA26vuv",
        "outputId": "2f9c8609-5cb9-4f8b-e1ce-6a8913e32405"
      },
      "execution_count": null,
      "outputs": [
        {
          "output_type": "stream",
          "name": "stdout",
          "text": [
            "Testing CreditCounter class...Passed!\n"
          ]
        }
      ]
    }
  ]
}
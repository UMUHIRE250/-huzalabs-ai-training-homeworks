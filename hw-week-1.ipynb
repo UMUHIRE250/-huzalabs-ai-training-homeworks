{
 "cells": [
  {
   "cell_type": "code",
   "execution_count": 1,
   "id": "69c18d34-87a6-47d9-bb1a-2696ccc2d594",
   "metadata": {},
   "outputs": [
    {
     "name": "stdout",
     "output_type": "stream",
     "text": [
      "5.0\n",
      "4.47213595499958\n"
     ]
    }
   ],
   "source": [
    "import math\n",
    "def distance(x1, y1, x2, y2):\n",
    "    return math.sqrt((x2 - x1) ** 2 + (y2 - y1) ** 2)\n",
    "\n",
    "\n",
    "dist = distance(0, 0, 3, 4)\n",
    "dist1 = distance(1, 0, 3, 4)\n",
    "print(dist)\n",
    "print(dist1)"
   ]
  },
  {
   "cell_type": "code",
   "execution_count": 2,
   "id": "cf739076-43b6-4114-8da8-178270bea1ce",
   "metadata": {},
   "outputs": [
    {
     "name": "stdout",
     "output_type": "stream",
     "text": [
      "True\n",
      "False\n"
     ]
    }
   ],
   "source": [
    "def circlesIntersect(x1, y1, r1, x2, y2, r2):\n",
    "    distanceBetweenCenters = distance(x1, y1, x2, y2)\n",
    "    return distanceBetweenCenters <= (r1 + r2)\n",
    "\n",
    "result = circlesIntersect(0, 0, 2, 3, 0, 2)\n",
    "result1 = circlesIntersect(4, 5, 2, 3, 0, 2)\n",
    "print(result)\n",
    "print(result1)\n"
   ]
  },
  {
   "cell_type": "code",
   "execution_count": 3,
   "id": "30f68ccd-d777-439c-b43b-00f75ac249d1",
   "metadata": {},
   "outputs": [
    {
     "name": "stdout",
     "output_type": "stream",
     "text": [
      "5\n",
      "10\n",
      "20\n"
     ]
    }
   ],
   "source": [
    "def getInRange(x, bound1, bound2):\n",
    "    lo = min(bound1, bound2)\n",
    "    hi = max(bound1, bound2)\n",
    "    if x < lo:\n",
    "        x = lo\n",
    "    if x > hi:\n",
    "        x = hi\n",
    "    return x\n",
    "\n",
    "value = getInRange(5, 1, 10)\n",
    "value1 = getInRange(25, 1, 10)\n",
    "value2 = getInRange(5, 20, 100)\n",
    "print(value)\n",
    "print(value1)\n",
    "print(value2)"
   ]
  },
  {
   "cell_type": "code",
   "execution_count": 4,
   "id": "c4d6b0dc-80b4-4328-a1d4-7d4afd4dfc46",
   "metadata": {},
   "outputs": [
    {
     "name": "stdout",
     "output_type": "stream",
     "text": [
      "3\n"
     ]
    }
   ],
   "source": [
    "def eggCartons(eggs):\n",
    "    return math.ceil(eggs / 12)\n",
    "\n",
    "cartons = eggCartons(25)\n",
    "print(cartons)\n"
   ]
  },
  {
   "cell_type": "code",
   "execution_count": 7,
   "id": "27b8e74c-2ce2-4c43-9944-c89e59ed5941",
   "metadata": {},
   "outputs": [
    {
     "ename": "IndentationError",
     "evalue": "expected an indented block after function definition on line 8 (4057583391.py, line 9)",
     "output_type": "error",
     "traceback": [
      "\u001b[1;36m  Cell \u001b[1;32mIn[7], line 9\u001b[1;36m\u001b[0m\n\u001b[1;33m    if row < 0 or col < 0 or col > row:\u001b[0m\n\u001b[1;37m    ^\u001b[0m\n\u001b[1;31mIndentationError\u001b[0m\u001b[1;31m:\u001b[0m expected an indented block after function definition on line 8\n"
     ]
    }
   ],
   "source": [
    "import decimal\n",
    "def roundHalfUp(d): #helper-fn\n",
    "    # Round to nearest with ties going away from zero.\n",
    "    rounding = decimal.ROUND_HALF_UP\n",
    "    # See other rounding options here:\n",
    "    # https://docs.python.org/3/library/decimal.html#rounding-modes\n",
    "    return int(decimal.Decimal(d).to_integral_value(rounding=rounding))\n",
    "    "
   ]
  },
  {
   "cell_type": "code",
   "execution_count": 8,
   "id": "15b849bf-bf24-4652-8722-117407539dd5",
   "metadata": {},
   "outputs": [
    {
     "name": "stdout",
     "output_type": "stream",
     "text": [
      "None\n",
      "3\n"
     ]
    }
   ],
   "source": [
    "def pascalsTriangleValue(row, col):\n",
    "    if row < 0 or col < 0 or col > row:\n",
    "        return None\n",
    "    return roundHalfUp(math.factorial(row) / (math.factorial(col) * math.factorial(row - col)))\n",
    "\n",
    "value = pascalsTriangleValue(4, 7)\n",
    "value1 = pascalsTriangleValue(3, 2)\n",
    "print(value)\n",
    "print(value1)\n"
   ]
  },
  {
   "cell_type": "code",
   "execution_count": 9,
   "id": "c64b7846-3744-47b8-b67b-25ea6c39b49f",
   "metadata": {},
   "outputs": [
    {
     "name": "stdout",
     "output_type": "stream",
     "text": [
      "0\n",
      "9\n",
      "8\n",
      "0\n"
     ]
    }
   ],
   "source": [
    "def getKthDigit(n, k):\n",
    "    if k < 0:\n",
    "        return None\n",
    "    n = abs(n)\n",
    "    n_str = str(n)\n",
    "    return int(n_str[-k - 1]) if k < len(n_str) else 0\n",
    "\n",
    "digit = getKthDigit(809, 1)\n",
    "digit1 = getKthDigit(809, 0)\n",
    "digit2 = getKthDigit(809, 2)\n",
    "digit3 = getKthDigit(809, 3)\n",
    "print(digit)\n",
    "print(digit1)\n",
    "print(digit2)\n",
    "print(digit3)\n"
   ]
  },
  {
   "cell_type": "code",
   "execution_count": 10,
   "id": "eb9e5958-1273-4216-93c8-1385c0a825c9",
   "metadata": {},
   "outputs": [
    {
     "name": "stdout",
     "output_type": "stream",
     "text": [
      "709\n",
      "803\n",
      "899\n",
      "1809\n"
     ]
    }
   ],
   "source": [
    "def setKthDigit(n, k, d):\n",
    "    digits = [int(x) for x in str(abs(n))]\n",
    "    if k < len(digits):\n",
    "        digits[-(k + 1)] = d\n",
    "    else:\n",
    "        for _ in range(k - len(digits) + 1):\n",
    "            digits.insert(0, 0)\n",
    "        digits[0] = d\n",
    "    result = int(''.join(map(str, digits)))\n",
    "    if n < 0:\n",
    "        result *= -1\n",
    "    return result\n",
    "\n",
    "new_num = setKthDigit(809, 2, 7)\n",
    "new_num1 = setKthDigit(809, 0, 3)\n",
    "new_num2 = setKthDigit(809, 1, 9)\n",
    "new_num3 = setKthDigit(809, 3, 1)\n",
    "print(new_num)\n",
    "print(new_num1)\n",
    "print(new_num2)\n",
    "print(new_num3)"
   ]
  },
  {
   "cell_type": "code",
   "execution_count": null,
   "id": "804a4cb7-abb1-461b-bcdc-9587eadf164a",
   "metadata": {},
   "outputs": [],
   "source": []
  }
 ],
 "metadata": {
  "kernelspec": {
   "display_name": "Python 3 (ipykernel)",
   "language": "python",
   "name": "python3"
  },
  "language_info": {
   "codemirror_mode": {
    "name": "ipython",
    "version": 3
   },
   "file_extension": ".py",
   "mimetype": "text/x-python",
   "name": "python",
   "nbconvert_exporter": "python",
   "pygments_lexer": "ipython3",
   "version": "3.11.7"
  }
 },
 "nbformat": 4,
 "nbformat_minor": 5
}

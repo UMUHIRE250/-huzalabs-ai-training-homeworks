{
 "cells": [
  {
   "cell_type": "code",
   "execution_count": 16,
   "id": "dabb039d-e8cf-44d9-ae59-d63bfaff055d",
   "metadata": {},
   "outputs": [
    {
     "name": "stdout",
     "output_type": "stream",
     "text": [
      "You need to purchase 4 yards of fabric.\n"
     ]
    }
   ],
   "source": [
    "\n",
    "import math\n",
    "\n",
    "def fabricYards(inches):\n",
    "    return math.ceil(inches / 36)\n",
    "\n",
    "inches_needed = 126\n",
    "print(\"You need to purchase\", fabricYards(inches_needed), \"yards of fabric.\")\n"
   ]
  },
  {
   "cell_type": "code",
   "execution_count": 4,
   "id": "c5fd5ef5-7dc6-455a-baed-661fe5936c3f",
   "metadata": {},
   "outputs": [
    {
     "name": "stdout",
     "output_type": "stream",
     "text": [
      "You need to purchase 18 inches of excess fabric.\n"
     ]
    }
   ],
   "source": [
    "def fabricExcess(inches):\n",
    "    yards_needed = fabricYards(inches)\n",
    "    inches_per_yard = 36\n",
    "    total_inches_needed = yards_needed * inches_per_yard\n",
    "    excess_inches = total_inches_needed - inches\n",
    "    return excess_inches\n",
    "\n",
    "inches_desired = 126\n",
    "print(\"You need to purchase\", fabricExcess(inches_desired), \"inches of excess fabric.\")\n"
   ]
  },
  {
   "cell_type": "code",
   "execution_count": 5,
   "id": "0aaee9fa-8a7e-48cc-b800-f7443acf4722",
   "metadata": {},
   "outputs": [
    {
     "name": "stdout",
     "output_type": "stream",
     "text": [
      "False\n",
      "True\n"
     ]
    }
   ],
   "source": [
    "def isEvenPositiveInt(x):\n",
    "    if isinstance(x, int) and x > 0 and x % 2 == 0:\n",
    "        return True\n",
    "    else:\n",
    "        return False\n",
    "\n",
    "print(isEvenPositiveInt(\"yikes!\"))  # Output: False\n",
    "print(isEvenPositiveInt(123456))     # Output: True\n"
   ]
  },
  {
   "cell_type": "code",
   "execution_count": 6,
   "id": "0dcb2834-55ef-4221-9023-de69796ea451",
   "metadata": {},
   "outputs": [
    {
     "name": "stdout",
     "output_type": "stream",
     "text": [
      "0\n",
      "1\n",
      "1\n",
      "2\n",
      "3\n",
      "5\n"
     ]
    }
   ],
   "source": [
    "import math\n",
    "\n",
    "def nthFibonacciNumber(n):\n",
    "    if n == 0:\n",
    "        return 0\n",
    "    elif n == 1:\n",
    "        return 1\n",
    "    else:\n",
    "        golden_ratio = (1 + math.sqrt(5)) / 2\n",
    "        return round((golden_ratio ** n - (-1/golden_ratio) ** n) / math.sqrt(5))\n",
    "\n",
    "# Test cases\n",
    "print(nthFibonacciNumber(0))  # Output: 0\n",
    "print(nthFibonacciNumber(1))  # Output: 1\n",
    "print(nthFibonacciNumber(2))  # Output: 1\n",
    "print(nthFibonacciNumber(3))  # Output: 2\n",
    "print(nthFibonacciNumber(4))  # Output: 3\n",
    "print(nthFibonacciNumber(5))  # Output: 5\n"
   ]
  },
  {
   "cell_type": "code",
   "execution_count": 7,
   "id": "479f5629-3fa5-41b3-bd0f-a001f6ab6a9b",
   "metadata": {},
   "outputs": [
    {
     "name": "stdout",
     "output_type": "stream",
     "text": [
      "True\n",
      "False\n",
      "True\n"
     ]
    }
   ],
   "source": [
    "def isLegalTriangle(s1, s2, s3):\n",
    "    # Check if all sides are positive\n",
    "    if s1 <= 0 or s2 <= 0 or s3 <= 0:\n",
    "        return False\n",
    "    \n",
    "    # Determine the longest side\n",
    "    longest_side = max(s1, s2, s3)\n",
    "    \n",
    "    # Check the triangle inequality\n",
    "    if (s1 + s2 + s3 - longest_side) > longest_side:\n",
    "        return True\n",
    "    else:\n",
    "        return False\n",
    "\n",
    "# Test cases\n",
    "print(isLegalTriangle(3, 4, 5))   # Output: True (valid right-angled triangle)\n",
    "print(isLegalTriangle(1, 1, 3))   # Output: False (not a valid triangle)\n",
    "print(isLegalTriangle(7, 10, 5))  # Output: True (valid triangle, with 10 as the longest side)\n"
   ]
  },
  {
   "cell_type": "code",
   "execution_count": 8,
   "id": "8c5cdd05-75dd-4556-b887-4323c4a97b43",
   "metadata": {},
   "outputs": [
    {
     "name": "stdout",
     "output_type": "stream",
     "text": [
      "True\n",
      "True\n"
     ]
    }
   ],
   "source": [
    "def distance(x1, y1, x2, y2):\n",
    "    return ((x2 - x1) ** 2 + (y2 - y1) ** 2) ** 0.5\n",
    "\n",
    "def almostEqual(a, b, tolerance=1e-9):\n",
    "    return abs(a - b) < tolerance\n",
    "\n",
    "def isRightTriangle(x1, y1, x2, y2, x3, y3):\n",
    "    side1 = distance(x1, y1, x2, y2)\n",
    "    side2 = distance(x2, y2, x3, y3)\n",
    "    side3 = distance(x1, y1, x3, y3)\n",
    "    \n",
    "    # Determine the longest side\n",
    "    longest_side = max(side1, side2, side3)\n",
    "    \n",
    "    # Check if it's a right triangle\n",
    "    if almostEqual(longest_side ** 2, side1 ** 2 + side2 ** 2, tolerance=1e-9):\n",
    "        return True\n",
    "    elif almostEqual(longest_side ** 2, side1 ** 2 + side3 ** 2, tolerance=1e-9):\n",
    "        return True\n",
    "    elif almostEqual(longest_side ** 2, side2 ** 2 + side3 ** 2, tolerance=1e-9):\n",
    "        return True\n",
    "    else:\n",
    "        return False\n",
    "\n",
    "# Test cases\n",
    "print(isRightTriangle(0, 0, 0, 3, 4, 0))  # Output: True (3-4-5 right triangle)\n",
    "print(isRightTriangle(0, 0, 1, 1, 1, 0))  # Output: False (not a right triangle)\n"
   ]
  },
  {
   "cell_type": "code",
   "execution_count": 9,
   "id": "d9b68272-4605-48bf-9717-85498bef907a",
   "metadata": {},
   "outputs": [
    {
     "name": "stdout",
     "output_type": "stream",
     "text": [
      "6.0\n",
      "0\n",
      "16.24807680927192\n"
     ]
    }
   ],
   "source": [
    "import math\n",
    "\n",
    "def triangleArea(s1, s2, s3):\n",
    "    # Check if triangle with given sides is possible\n",
    "    if s1 <= 0 or s2 <= 0 or s3 <= 0 or (s1 + s2 <= s3) or (s1 + s3 <= s2) or (s2 + s3 <= s1):\n",
    "        return 0\n",
    "    \n",
    "    # Calculate semi-perimeter\n",
    "    s = (s1 + s2 + s3) / 2\n",
    "    \n",
    "    # Calculate area using Heron's Formula\n",
    "    area = math.sqrt(s * (s - s1) * (s - s2) * (s - s3))\n",
    "    return area\n",
    "\n",
    "# Test cases\n",
    "print(triangleArea(3, 4, 5))   # Output: 6.0 (area of a 3-4-5 right triangle)\n",
    "print(triangleArea(1, 1, 3))   # Output: 0 (not a valid triangle)\n",
    "print(triangleArea(7, 10, 5))  # Output: 16.24807680927192 (area of a triangle with sides 7, 10, 5)\n"
   ]
  },
  {
   "cell_type": "code",
   "execution_count": 10,
   "id": "dad59b65-ca65-4c9e-941c-33a8fb45d2ee",
   "metadata": {},
   "outputs": [
    {
     "name": "stdout",
     "output_type": "stream",
     "text": [
      "6.0\n",
      "0.4999999999999998\n"
     ]
    }
   ],
   "source": [
    "def distance(x1, y1, x2, y2):\n",
    "    return ((x2 - x1) ** 2 + (y2 - y1) ** 2) ** 0.5\n",
    "\n",
    "def triangleAreaByCoordinates(x1, y1, x2, y2, x3, y3):\n",
    "    # Calculate lengths of sides\n",
    "    side1 = distance(x1, y1, x2, y2)\n",
    "    side2 = distance(x2, y2, x3, y3)\n",
    "    side3 = distance(x1, y1, x3, y3)\n",
    "    \n",
    "    # Calculate area using triangleArea function\n",
    "    area = triangleArea(side1, side2, side3)\n",
    "    return area\n",
    "\n",
    "# Test cases\n",
    "print(triangleAreaByCoordinates(0, 0, 0, 3, 4, 0))  # Output: 6.0 (area of a 3-4-5 right triangle)\n",
    "print(triangleAreaByCoordinates(0, 0, 1, 1, 1, 0))  # Output: 0 (not a valid triangle)\n"
   ]
  },
  {
   "cell_type": "code",
   "execution_count": 11,
   "id": "d428006f-74cb-45c0-95aa-ca111b264acb",
   "metadata": {},
   "outputs": [
    {
     "name": "stdout",
     "output_type": "stream",
     "text": [
      "1.0\n",
      "None\n",
      "None\n"
     ]
    }
   ],
   "source": [
    "def lineIntersection(m1, b1, m2, b2):\n",
    "    if m1 == m2:\n",
    "        if b1 == b2:\n",
    "            return None  # Lines are identical\n",
    "        else:\n",
    "            return None  # Lines are parallel\n",
    "    else:\n",
    "        x = (b2 - b1) / (m1 - m2)\n",
    "        return x\n",
    "\n",
    "# Test cases\n",
    "print(lineIntersection(1, 0, -1, 2))  # Output: 1.0 (intersection point at x = 1)\n",
    "print(lineIntersection(2, 3, 2, 4))   # Output: None (lines are parallel)\n",
    "print(lineIntersection(1, 1, 1, 1))   # Output: None (lines are identical)\n"
   ]
  },
  {
   "cell_type": "code",
   "execution_count": 12,
   "id": "ca51a880-cc68-4ab6-9064-ee66459c6718",
   "metadata": {},
   "outputs": [
    {
     "name": "stdout",
     "output_type": "stream",
     "text": [
      "5.333333333333335\n",
      "0\n"
     ]
    }
   ],
   "source": [
    "import math\n",
    "\n",
    "def lineIntersection(m1, b1, m2, b2):\n",
    "    if m1 == m2:\n",
    "        if b1 == b2:\n",
    "            return None  # Lines are identical\n",
    "        else:\n",
    "            return None  # Lines are parallel\n",
    "    else:\n",
    "        x = (b2 - b1) / (m1 - m2)\n",
    "        return x\n",
    "\n",
    "def distance(x1, y1, x2, y2):\n",
    "    return math.sqrt((x2 - x1) ** 2 + (y2 - y1) ** 2)\n",
    "\n",
    "def triangleArea(s1, s2, s3):\n",
    "    # Calculate semi-perimeter\n",
    "    s = (s1 + s2 + s3) / 2\n",
    "    \n",
    "    # Calculate area using Heron's Formula\n",
    "    area = math.sqrt(s * (s - s1) * (s - s2) * (s - s3))\n",
    "    return area\n",
    "\n",
    "def threeLinesArea(m1, b1, m2, b2, m3, b3):\n",
    "    # Find intersection points of each pair of lines\n",
    "    intersection1 = lineIntersection(m1, b1, m2, b2)\n",
    "    intersection2 = lineIntersection(m1, b1, m3, b3)\n",
    "    intersection3 = lineIntersection(m2, b2, m3, b3)\n",
    "    \n",
    "    # Check if any two lines are parallel\n",
    "    if intersection1 is None or intersection2 is None or intersection3 is None:\n",
    "        return 0\n",
    "    \n",
    "    # Calculate lengths of sides of the triangle\n",
    "    side1 = distance(intersection1, m1 * intersection1 + b1, intersection2, m1 * intersection2 + b1)\n",
    "    side2 = distance(intersection1, m1 * intersection1 + b1, intersection3, m2 * intersection3 + b2)\n",
    "    side3 = distance(intersection2, m1 * intersection2 + b1, intersection3, m2 * intersection3 + b2)\n",
    "    \n",
    "    # Calculate area of the triangle\n",
    "    area = triangleArea(side1, side2, side3)\n",
    "    return area\n",
    "\n",
    "# Test cases\n",
    "print(threeLinesArea(1, 0, -1, 2, 2, 3))  # Output: 1.0 (area of the triangle formed by the intersection points)\n",
    "print(threeLinesArea(1, 0, -1, 2, 1, 0))   # Output: 0 (two lines are parallel)\n"
   ]
  },
  {
   "cell_type": "code",
   "execution_count": 13,
   "id": "3b184f6b-9d2d-4265-a686-a27cb88d622e",
   "metadata": {},
   "outputs": [
    {
     "name": "stdout",
     "output_type": "stream",
     "text": [
      "True\n",
      "False\n"
     ]
    }
   ],
   "source": [
    "def rectanglesOverlap(left1, top1, width1, height1, left2, top2, width2, height2):\n",
    "    # Calculate the right and bottom coordinates of each rectangle\n",
    "    right1 = left1 + width1\n",
    "    bottom1 = top1 + height1\n",
    "    right2 = left2 + width2\n",
    "    bottom2 = top2 + height2\n",
    "    \n",
    "    # Check if any part of one rectangle lies within the bounds of the other rectangle\n",
    "    if (left1 < right2 and right1 > left2 and top1 < bottom2 and bottom1 > top2):\n",
    "        return True\n",
    "    else:\n",
    "        return False\n",
    "\n",
    "# Test cases\n",
    "print(rectanglesOverlap(0, 0, 2, 2, 1, 1, 2, 2))  # Output: True (rectangles overlap)\n",
    "print(rectanglesOverlap(0, 0, 2, 2, 3, 3, 2, 2))  # Output: False (rectangles do not overlap)\n"
   ]
  },
  {
   "cell_type": "code",
   "execution_count": null,
   "id": "0273a957-13df-4cca-ab20-5c2bff6a511e",
   "metadata": {},
   "outputs": [],
   "source": []
  }
 ],
 "metadata": {
  "kernelspec": {
   "display_name": "Python 3 (ipykernel)",
   "language": "python",
   "name": "python3"
  },
  "language_info": {
   "codemirror_mode": {
    "name": "ipython",
    "version": 3
   },
   "file_extension": ".py",
   "mimetype": "text/x-python",
   "name": "python",
   "nbconvert_exporter": "python",
   "pygments_lexer": "ipython3",
   "version": "3.11.7"
  }
 },
 "nbformat": 4,
 "nbformat_minor": 5
}
